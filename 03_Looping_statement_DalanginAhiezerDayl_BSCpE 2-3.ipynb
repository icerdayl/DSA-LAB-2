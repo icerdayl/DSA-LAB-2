{
 "cells": [
  {
   "cell_type": "markdown",
   "metadata": {},
   "source": [
    "## Ahiezer Dayl P. Dalangin\n",
    "BSCpE 2-3\n",
    "#### DSA LAB ACTIVITY 2"
   ]
  },
  {
   "cell_type": "markdown",
   "metadata": {},
   "source": [
    "## EXERCISE 1\n",
    "#### Base and Exponents"
   ]
  },
  {
   "cell_type": "code",
   "execution_count": 5,
   "metadata": {},
   "outputs": [
    {
     "name": "stdout",
     "output_type": "stream",
     "text": [
      "Base: 5 \n",
      "Exponent: 5 \n",
      "Result: 3125\n"
     ]
    }
   ],
   "source": [
    "# Create the Function\n",
    "def power(base, exponent):\n",
    "# Condition to check if the exponent is 0\n",
    "    if exponent == 0:\n",
    "        return 1\n",
    "    else:\n",
    "# Recursive call to the function\n",
    "        return base * power(base, exponent - 1)\n",
    "\n",
    "# Input from the user\n",
    "base = int(input(\"Enter the base number: \"))\n",
    "exponent = int(input(\"Enter the exponent: \"))\n",
    "\n",
    "# Function call\n",
    "result = power(base, exponent)\n",
    "print(f\"Base: {base} \\nExponent: {exponent} \\nResult: {result}\")"
   ]
  },
  {
   "cell_type": "markdown",
   "metadata": {},
   "source": [
    "## EXERCISE 2\n",
    "#### Cubes of Numbers"
   ]
  },
  {
   "cell_type": "code",
   "execution_count": null,
   "metadata": {},
   "outputs": [],
   "source": [
    "# Input from the user\n",
    "size = int(input(\"Enter the size of the array: \"))\n",
    "\n",
    "elements = list(map(int, input(\"Enter the elements separated by space: \").split()))\n",
    "\n",
    "# Condition to check if the size of the array is equal to the number of elements\n",
    "if elements != size:\n",
    "    print(\"Invalid input\")\n",
    "    exit()\n",
    "    \n",
    "# Printing the cube of the elements\n",
    "else:\n",
    "    for n in elements:\n",
    "        print(n ** 3)"
   ]
  },
  {
   "cell_type": "markdown",
   "metadata": {},
   "source": [
    "## EXERCISE 3\n",
    "#### Hollow Square"
   ]
  },
  {
   "cell_type": "code",
   "execution_count": 8,
   "metadata": {},
   "outputs": [
    {
     "name": "stdout",
     "output_type": "stream",
     "text": [
      "invalid literal for int() with base 10: 'a'\n"
     ]
    }
   ],
   "source": [
    "try:\n",
    "# Input from the user\n",
    "    length = int(input(\"Enter the side length of the square: \"))\n",
    "\n",
    "# Condition to check if the length is less than 2\n",
    "    for i in range(length):\n",
    "        if i == 0 or i == length - 1:\n",
    "            print('x' * length)\n",
    "        else:\n",
    "            print('x' + ' ' * (length - 2) + 'x')\n",
    "\n",
    "# Exception handling\n",
    "except ValueError as E:\n",
    "    print (E)"
   ]
  },
  {
   "cell_type": "markdown",
   "metadata": {},
   "source": [
    "## EXERCISE 4\n",
    "#### Inverted Triangle"
   ]
  },
  {
   "cell_type": "code",
   "execution_count": null,
   "metadata": {},
   "outputs": [],
   "source": [
    "try:   \n",
    "# Input from the user\n",
    "    height = int(input(\"Enter the height of the triangle: \"))\n",
    "\n",
    "# Printing the triangle\n",
    "    for i in range(height, 0, -1):\n",
    "        print('*' * i)\n",
    "        \n",
    "# Exception handling\n",
    "except ValueError as E:\n",
    "    print (E)"
   ]
  },
  {
   "cell_type": "markdown",
   "metadata": {},
   "source": [
    "-------------------------------------------------------------------------END OF PROGRAM-----------------------------------------------------------------------------------"
   ]
  }
 ],
 "metadata": {
  "kernelspec": {
   "display_name": "Python 3",
   "language": "python",
   "name": "python3"
  },
  "language_info": {
   "codemirror_mode": {
    "name": "ipython",
    "version": 3
   },
   "file_extension": ".py",
   "mimetype": "text/x-python",
   "name": "python",
   "nbconvert_exporter": "python",
   "pygments_lexer": "ipython3",
   "version": "3.12.0"
  }
 },
 "nbformat": 4,
 "nbformat_minor": 2
}
